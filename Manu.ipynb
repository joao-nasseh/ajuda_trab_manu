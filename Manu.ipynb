{
 "cells": [
  {
   "cell_type": "code",
   "execution_count": 238,
   "metadata": {},
   "outputs": [],
   "source": [
    "a = 'coroa'\n",
    "b = 'criogenia'\n",
    "c = 'iguais'\n",
    "d = 'Uruguaiana'"
   ]
  },
  {
   "cell_type": "code",
   "execution_count": 287,
   "metadata": {},
   "outputs": [],
   "source": [
    "def trocar_vogais_consecutivas (s):\n",
    "    \n",
    "    # verifica se string é válida\n",
    "    if s == '':\n",
    "        return ''\n",
    "    \n",
    "    # calcula para strings válidas\n",
    "    else:\n",
    "        \n",
    "        # verifica se s[0] é uma vogal\n",
    "        if not s[0].lower() in 'aeiou':\n",
    "            # retorna quando s[0] não é uma vogal\n",
    "            return s[0] + trocar_vogais_consecutivas(s[1:])\n",
    "        \n",
    "        # calcula quando s[0] é uma vogal\n",
    "        else:\n",
    "            \n",
    "            # verifica se s[0] é a última letra\n",
    "            if s[1:] == '':\n",
    "                return s[0]\n",
    "            \n",
    "            # calcula quando s[0] não é a última letra\n",
    "            else:\n",
    "                \n",
    "                # verifica se s[1] é uma vogal\n",
    "                if not s[1].lower() in 'aeiou':\n",
    "                    # retorna quando s[1] não é uma vogal\n",
    "                    return s[0] + trocar_vogais_consecutivas(s[1:])\n",
    "                \n",
    "                # calcula quando s[0] e s[1] são vogais\n",
    "                else:\n",
    "                    \n",
    "                    # verifica se s[1] é a última letra\n",
    "                    if s[2:] == '':\n",
    "                        return '*' + trocar_vogais_consecutivas(s[2:])\n",
    "                    \n",
    "                    # calcula quando s[1] não é a última letra\n",
    "                    else:\n",
    "                        \n",
    "                        # verifica se s[2] é vogal\n",
    "                        if not s[2].lower() in 'aeiou':\n",
    "                            #retorna quando s[2] não é vogal\n",
    "                            return '*' + trocar_vogais_consecutivas(s[2:])\n",
    "                        \n",
    "                        # calcula quando s[0], s[1] e s[2] são vogais\n",
    "                        else:\n",
    "                            \n",
    "                            # verifica se s[2] é a última letra\n",
    "                            if s[3:] == '':\n",
    "                                return s[0] + '*' + trocar_vogais_consecutivas(s[3:])\n",
    "                            \n",
    "                            # calcula quando s[2] não é a última letra\n",
    "                            else:\n",
    "                                \n",
    "                                # verifica se s[3] é uma vogal\n",
    "                                if not s[3].lower() in 'aeiou':\n",
    "                                    # retorna quando s[0], s[1] e s[2] são vogais, mas s[3] não é uma vogal\n",
    "                                    return s[0] + '*' + trocar_vogais_consecutivas(s[3:])\n",
    "                                \n",
    "                                # calcula quando s[0], s[1], s[2] e s[3] são vogais\n",
    "                                else:\n",
    "                                    return '*' + '*' + trocar_vogais_consecutivas(s[4:])"
   ]
  },
  {
   "cell_type": "code",
   "execution_count": 288,
   "metadata": {},
   "outputs": [
    {
     "data": {
      "text/plain": [
       "'cor*'"
      ]
     },
     "execution_count": 288,
     "metadata": {},
     "output_type": "execute_result"
    }
   ],
   "source": [
    "trocar_vogais_consecutivas(a)"
   ]
  },
  {
   "cell_type": "code",
   "execution_count": 289,
   "metadata": {},
   "outputs": [
    {
     "data": {
      "text/plain": [
       "'cr*gen*'"
      ]
     },
     "execution_count": 289,
     "metadata": {},
     "output_type": "execute_result"
    }
   ],
   "source": [
    "trocar_vogais_consecutivas(b)"
   ]
  },
  {
   "cell_type": "code",
   "execution_count": 290,
   "metadata": {},
   "outputs": [
    {
     "data": {
      "text/plain": [
       "'igu*s'"
      ]
     },
     "execution_count": 290,
     "metadata": {},
     "output_type": "execute_result"
    }
   ],
   "source": [
    "trocar_vogais_consecutivas(c)"
   ]
  },
  {
   "cell_type": "code",
   "execution_count": 291,
   "metadata": {},
   "outputs": [
    {
     "data": {
      "text/plain": [
       "'Urug**na'"
      ]
     },
     "execution_count": 291,
     "metadata": {},
     "output_type": "execute_result"
    }
   ],
   "source": [
    "trocar_vogais_consecutivas(d)"
   ]
  },
  {
   "cell_type": "code",
   "execution_count": 276,
   "metadata": {},
   "outputs": [
    {
     "name": "stdout",
     "output_type": "stream",
     "text": [
      "True\n"
     ]
    }
   ],
   "source": [
    "if a[8:] == '':\n",
    "    print(True)"
   ]
  },
  {
   "cell_type": "code",
   "execution_count": null,
   "metadata": {},
   "outputs": [],
   "source": []
  }
 ],
 "metadata": {
  "kernelspec": {
   "display_name": "Python 3",
   "language": "python",
   "name": "python3"
  },
  "language_info": {
   "codemirror_mode": {
    "name": "ipython",
    "version": 3
   },
   "file_extension": ".py",
   "mimetype": "text/x-python",
   "name": "python",
   "nbconvert_exporter": "python",
   "pygments_lexer": "ipython3",
   "version": "3.7.4"
  }
 },
 "nbformat": 4,
 "nbformat_minor": 2
}
