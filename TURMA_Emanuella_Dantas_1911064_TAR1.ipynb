{
 "cells": [
  {
   "cell_type": "code",
   "execution_count": 120,
   "metadata": {},
   "outputs": [],
   "source": [
    "def tuplaDeIndividuos (arquivoTexto):\n",
    "    listaDeIndividuos = list()\n",
    "    arquivoAberto = open(arquivoTexto, 'r')\n",
    "    \n",
    "    for individuo in arquivoAberto:\n",
    "        individuo = individuo.strip()\n",
    "        individuo = individuo.split(';')\n",
    "        individuo[4:7] = [(individuo[4], individuo[5], individuo[6])]\n",
    "        tuplaCadaIndividuo = tuple(individuo)\n",
    "        \n",
    "        listaDeIndividuos.append(tuplaCadaIndividuo)\n",
    "        \n",
    "    tuplaDeIndividuos = tuple(listaDeIndividuos)\n",
    "        \n",
    "    return tuplaDeIndividuos\n",
    "        \n",
    "    arquivoAberto.close()"
   ]
  },
  {
   "cell_type": "code",
   "execution_count": 121,
   "metadata": {},
   "outputs": [],
   "source": [
    "tuplaDeIndividuos = tuplaDeIndividuos('emagrecimento.txt')"
   ]
  },
  {
   "cell_type": "code",
   "execution_count": 122,
   "metadata": {},
   "outputs": [],
   "source": [
    "def tuplaDeMedicamento (medicamento, tuplaDeIndividuos):\n",
    "    listaDeIndividuos = list()\n",
    "    \n",
    "    for individuo in tuplaDeIndividuos:\n",
    "        if individuo[3] == medicamento:\n",
    "            listaDeIndividuos.append(individuo)\n",
    "            \n",
    "    tuplaDeIndividuosPorMedicamento = tuple(listaDeIndividuos)\n",
    "    \n",
    "    return tuplaDeIndividuosPorMedicamento"
   ]
  },
  {
   "cell_type": "code",
   "execution_count": 123,
   "metadata": {},
   "outputs": [],
   "source": [
    "tuplaDeMedicamento = tuplaDeMedicamento('OBETROL', tuplaDeIndividuos)"
   ]
  },
  {
   "cell_type": "code",
   "execution_count": 175,
   "metadata": {},
   "outputs": [],
   "source": [
    "def minMaxPesoInicial (tuplaDeIndividuos):\n",
    "    menorPesoInicial = float('inf')\n",
    "    maiorPesoInicial = 0\n",
    "    \n",
    "    listaMenorPesoInicial = ['menorPesoInicial', 'IdMenorPesoInicial']\n",
    "    listaMaiorPesoInicial = ['maiorPesoInicial', 'IdMaiorPesoInicial']\n",
    "    \n",
    "    listaFinal = list()\n",
    "    \n",
    "    for individuo in tuplaDeIndividuos:\n",
    "        pesoInicial = float(individuo[4][0].replace(',','.'))\n",
    "        \n",
    "        if pesoInicial < menorPesoInicial:\n",
    "            listaMenorPesoInicial[0] = pesoInicial\n",
    "            listaMenorPesoInicial[1] = individuo[0]\n",
    "            \n",
    "            menorPesoInicial = pesoInicial\n",
    "            \n",
    "        if pesoInicial > maiorPesoInicial:\n",
    "            listaMaiorPesoInicial[0] = pesoInicial\n",
    "            listaMaiorPesoInicial[1] = individuo[0]\n",
    "            \n",
    "            maiorPesoInicial = pesoInicial\n",
    "            \n",
    "    listaFinal.append(tuple(listaMenorPesoInicial))\n",
    "    listaFinal.append(tuple(listaMaiorPesoInicial))\n",
    "    \n",
    "    tuplaFinal = tuple(listaFinal)\n",
    "    \n",
    "    return tuplaFinal"
   ]
  },
  {
   "cell_type": "code",
   "execution_count": 177,
   "metadata": {},
   "outputs": [],
   "source": [
    "minMaxPesoInicial = minMaxPesoInicial(tuplaDeIndividuos)"
   ]
  },
  {
   "cell_type": "code",
   "execution_count": 206,
   "metadata": {},
   "outputs": [],
   "source": [
    "def avaliacaoPerdaIndividual (individuo):\n",
    "    \n",
    "    individuo = list(individuo)\n",
    "    perda = float(individuo[4][2].replace(',', '.')) - float(individuo[4][0].replace(',', '.'))\n",
    "    perdaRelativa = perda/float(individuo[4][0].replace(',', '.'))\n",
    "        \n",
    "    if perdaRelativa <= -0.2:\n",
    "        individuo[4] = \"EXCELENTE\"\n",
    "        \n",
    "    elif perdaRelativa <= -0.05:\n",
    "        individuo[4] = \"SIGNIFICATIVA\"\n",
    "            \n",
    "    else:\n",
    "        individuo[4] = \"FRACA\"\n",
    "        \n",
    "    return tuple(individuo)"
   ]
  },
  {
   "cell_type": "code",
   "execution_count": 207,
   "metadata": {},
   "outputs": [
    {
     "data": {
      "text/plain": [
       "('1112323', 'F', '43', 'EMAGREX', 'EXCELENTE', 'nausea')"
      ]
     },
     "execution_count": 207,
     "metadata": {},
     "output_type": "execute_result"
    }
   ],
   "source": [
    "avaliacaoPerdaIndividual(tuplaDeIndividuos[0])"
   ]
  },
  {
   "cell_type": "code",
   "execution_count": 208,
   "metadata": {},
   "outputs": [],
   "source": [
    "def criaTuplaAvaliacaoPerdas (tuplaDeIndividuos):\n",
    "    \n",
    "    listaTuplaAvaliacaoPerdas = list()\n",
    "    \n",
    "    for individuo in tuplaDeIndividuos:\n",
    "        listaTuplaAvaliacaoPerdas.append(avaliacaoPerdaIndividual(individuo))\n",
    "        \n",
    "    return tuple(listaTuplaAvaliacaoPerdas)"
   ]
  },
  {
   "cell_type": "code",
   "execution_count": 231,
   "metadata": {},
   "outputs": [],
   "source": [
    "criaTuplaAvaliacaoPerdas = criaTuplaAvaliacaoPerdas(tuplaDeIndividuos)"
   ]
  },
  {
   "cell_type": "code",
   "execution_count": 228,
   "metadata": {},
   "outputs": [],
   "source": [
    "def criaDicDeEfeitosColaterais (tuplaDeIndividuos):\n",
    "    \n",
    "    dicDeEfeitosColaterais = dict()\n",
    "    \n",
    "    for individuo in tuplaDeIndividuos:\n",
    "        \n",
    "        efeitoColateral = dicDeEfeitosColaterais.get(individuo[5], 'x')\n",
    "        \n",
    "        if efeitoColateral == 'x':\n",
    "            dicDeEfeitosColaterais[individuo[5]] = 1\n",
    "        \n",
    "        else:\n",
    "            dicDeEfeitosColaterais[individuo[5]] += 1\n",
    "        \n",
    "    return dicDeEfeitosColaterais"
   ]
  },
  {
   "cell_type": "code",
   "execution_count": 232,
   "metadata": {},
   "outputs": [],
   "source": [
    "dicDeEfeitosColaterais = criaDicDeEfeitosColaterais(tuplaDeIndividuos)"
   ]
  },
  {
   "cell_type": "code",
   "execution_count": 252,
   "metadata": {},
   "outputs": [],
   "source": [
    "def criaDicDeMedicamento (tuplaDeIndividuos):\n",
    "    \n",
    "    dicDeMedicamentos = dict()\n",
    "    \n",
    "    for individuo in tuplaDeIndividuos:\n",
    "        \n",
    "        medicamento = dicDeMedicamentos.get(individuo[3], 'x')\n",
    "        \n",
    "        if medicamento == 'x':\n",
    "            dicDeMedicamentos[individuo[3]] = [individuo[0]]\n",
    "            \n",
    "        else:\n",
    "            dicDeMedicamentos[individuo[3]] += [individuo[0]] \n",
    "            \n",
    "    return dicDeMedicamentos"
   ]
  },
  {
   "cell_type": "code",
   "execution_count": 254,
   "metadata": {},
   "outputs": [],
   "source": [
    "criaDicDeMedicamento = criaDicDeMedicamento(tuplaDeIndividuos)"
   ]
  },
  {
   "cell_type": "code",
   "execution_count": null,
   "metadata": {},
   "outputs": [],
   "source": []
  }
 ],
 "metadata": {
  "kernelspec": {
   "display_name": "Python 3",
   "language": "python",
   "name": "python3"
  },
  "language_info": {
   "codemirror_mode": {
    "name": "ipython",
    "version": 3
   },
   "file_extension": ".py",
   "mimetype": "text/x-python",
   "name": "python",
   "nbconvert_exporter": "python",
   "pygments_lexer": "ipython3",
   "version": "3.7.4"
  }
 },
 "nbformat": 4,
 "nbformat_minor": 2
}
